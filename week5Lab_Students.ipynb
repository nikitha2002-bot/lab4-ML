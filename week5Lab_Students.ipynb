{
 "cells": [
  {
   "cell_type": "markdown",
   "metadata": {},
   "source": [
    "### Machine Learning Programming-PROG8245 \n",
    "\n",
    "Name - Kumari Nikitha Singh \n",
    "\n",
    "Student Id- 9053016"
   ]
  },
  {
   "attachments": {},
   "cell_type": "markdown",
   "metadata": {},
   "source": [
    "# **Tidying**"
   ]
  },
  {
   "attachments": {},
   "cell_type": "markdown",
   "metadata": {},
   "source": [
    "Part of the data engineering process is data cleaning and tidying. What is done in those two processes, is trying to make the data more readable, and complete. This makes much easier to analyze, visualize, and train the data.\n"
   ]
  },
  {
   "attachments": {},
   "cell_type": "markdown",
   "metadata": {},
   "source": [
    "## **Data Tidying**\n",
    "\n",
    "Making the data more organized, and readable is the result of applying data tidying. \n",
    "\n",
    "In this section two main pandas functions are used in data tidying those are `melt` and `pivot_table`."
   ]
  },
  {
   "attachments": {},
   "cell_type": "markdown",
   "metadata": {},
   "source": [
    "Let's start by taking a look at the below dataframe, which represents the income ranges based on religion. This is part of the PEW research, which is famous in the US for conducting pollings and surveys on citizens.\n",
    "\n",
    "When the following are satisfied:\n",
    "\n",
    "\n",
    "1. Each variable forms a column\n",
    "2. Each observation forms a row\n",
    "3. Each type of observational unit forms a table\n",
    "\n",
    "We can then say that our dataset is *tidy*.\n",
    "\n",
    "First we need to import pandas to read csv datasets."
   ]
  },
  {
   "cell_type": "markdown",
   "metadata": {},
   "source": [
    "### Import Packages"
   ]
  },
  {
   "cell_type": "code",
   "execution_count": 348,
   "metadata": {},
   "outputs": [],
   "source": [
    "import pandas as pd\n",
    "import numpy as np\n",
    "from sklearn.impute import SimpleImputer\n",
    "import matplotlib.pyplot as plt\n",
    "import seaborn as sns\n",
    "from scipy import stats\n",
    "from sklearn.datasets import load_diabetes\n",
    "\n"
   ]
  },
  {
   "attachments": {},
   "cell_type": "markdown",
   "metadata": {},
   "source": [
    "### **PEW Research Dataset**"
   ]
  },
  {
   "attachments": {},
   "cell_type": "markdown",
   "metadata": {},
   "source": [
    "1. Start by Importing the dataset into a pandas dataframe."
   ]
  },
  {
   "cell_type": "code",
   "execution_count": 321,
   "metadata": {},
   "outputs": [
    {
     "name": "stdout",
     "output_type": "stream",
     "text": [
      "            religion   <$10k   $10-20k  $20-30k  $30-40k   $40-50k  $50-75k\n",
      "0           Agnostic      27        34       60       81        76      137\n",
      "1            Atheist      12        27       37       52        35       70\n",
      "2           Buddhist      27        21       30       34        33       58\n",
      "3           Catholic     418       617      732      670       638     1116\n",
      "4  Dont know/refused      15        14       15       11        10       35\n"
     ]
    }
   ],
   "source": [
    "\n",
    "# Use the actual path to your CSV file\n",
    "file_path = 'CSVs/pew-raw.csv'  \n",
    "df_pew = pd.read_csv(file_path)\n",
    "\n",
    "# print the first 5 rows \n",
    "print(df_pew.head())\n"
   ]
  },
  {
   "attachments": {},
   "cell_type": "markdown",
   "metadata": {},
   "source": [
    "2. Observe the dataset using the `loc`, `iloc`, `head`, or `tail` approaches"
   ]
  },
  {
   "cell_type": "code",
   "execution_count": 322,
   "metadata": {},
   "outputs": [
    {
     "name": "stdout",
     "output_type": "stream",
     "text": [
      "Head (first 5 rows):\n",
      "            religion   <$10k   $10-20k  $20-30k  $30-40k   $40-50k  $50-75k\n",
      "0           Agnostic      27        34       60       81        76      137\n",
      "1            Atheist      12        27       37       52        35       70\n",
      "2           Buddhist      27        21       30       34        33       58\n",
      "3           Catholic     418       617      732      670       638     1116\n",
      "4  Dont know/refused      15        14       15       11        10       35\n",
      "\n",
      "Tail (last 5 rows):\n",
      "                   religion   <$10k   $10-20k  $20-30k  $30-40k   $40-50k  \\\n",
      "5         Evangelical Prot      575       869     1064      982       881   \n",
      "6                    Hindu        1         9        7        9        11   \n",
      "7  Historically Black Prot      228       244      236      238       197   \n",
      "8         Jehovahs Witness       20        27       24       24        21   \n",
      "9                   Jewish       19        19       25       25        30   \n",
      "\n",
      "   $50-75k  \n",
      "5     1486  \n",
      "6       34  \n",
      "7      223  \n",
      "8       30  \n",
      "9       95  \n",
      "\n",
      "Using iloc (rows 0 to 2):\n",
      "   religion   <$10k   $10-20k  $20-30k  $30-40k   $40-50k  $50-75k\n",
      "0  Agnostic      27        34       60       81        76      137\n",
      "1   Atheist      12        27       37       52        35       70\n",
      "2  Buddhist      27        21       30       34        33       58\n",
      "\n",
      "Using loc (rows 0 to 2):\n",
      "   religion   <$10k   $10-20k  $20-30k  $30-40k   $40-50k  $50-75k\n",
      "0  Agnostic      27        34       60       81        76      137\n",
      "1   Atheist      12        27       37       52        35       70\n",
      "2  Buddhist      27        21       30       34        33       58\n",
      "\n",
      "Specific cell using iloc (row 0, col 1):\n",
      "27\n",
      "\n",
      "Access a column using loc:\n",
      "0                    Agnostic\n",
      "1                     Atheist\n",
      "2                    Buddhist\n",
      "3                    Catholic\n",
      "4           Dont know/refused\n",
      "5           Evangelical Prot \n",
      "6                      Hindu \n",
      "7    Historically Black Prot \n",
      "8           Jehovahs Witness \n",
      "9                     Jewish \n",
      "Name: religion, dtype: object\n"
     ]
    }
   ],
   "source": [
    "\n",
    "# 1. View the first 5 rows\n",
    "print(\"Head (first 5 rows):\")\n",
    "print(df_pew.head())\n",
    "\n",
    "# 2. View the last 5 rows\n",
    "print(\"\\nTail (last 5 rows):\")\n",
    "print(df_pew.tail())\n",
    "\n",
    "# 3. Use iloc to get specific rows by index position (e.g., rows 0 to 2)\n",
    "print(\"\\nUsing iloc (rows 0 to 2):\")\n",
    "print(df_pew.iloc[0:3])\n",
    "\n",
    "# 4. Use loc to access rows by label (here, the index is default integers)\n",
    "print(\"\\nUsing loc (rows 0 to 2):\")\n",
    "print(df_pew.loc[0:2])\n",
    "\n",
    "# 5. Access a specific cell (e.g., 1st row, 2nd column)\n",
    "print(\"\\nSpecific cell using iloc (row 0, col 1):\")\n",
    "print(df_pew.iloc[0, 1])\n",
    "\n",
    "# 6. Access an entire column\n",
    "print(\"\\nAccess a column using loc:\")\n",
    "print(df_pew.loc[:, 'religion'])\n"
   ]
  },
  {
   "attachments": {},
   "cell_type": "markdown",
   "metadata": {},
   "source": [
    "***What does not seem right in the above dataframe?***"
   ]
  },
  {
   "attachments": {},
   "cell_type": "markdown",
   "metadata": {},
   "source": [
    "3. Try to make the column headers represent a variable not a value. For that, use the `melt` function."
   ]
  },
  {
   "cell_type": "code",
   "execution_count": null,
   "metadata": {},
   "outputs": [
    {
     "data": {
      "text/html": [
       "<div>\n",
       "<style scoped>\n",
       "    .dataframe tbody tr th:only-of-type {\n",
       "        vertical-align: middle;\n",
       "    }\n",
       "\n",
       "    .dataframe tbody tr th {\n",
       "        vertical-align: top;\n",
       "    }\n",
       "\n",
       "    .dataframe thead th {\n",
       "        text-align: right;\n",
       "    }\n",
       "</style>\n",
       "<table border=\"1\" class=\"dataframe\">\n",
       "  <thead>\n",
       "    <tr style=\"text-align: right;\">\n",
       "      <th></th>\n",
       "      <th>religion</th>\n",
       "      <th>income</th>\n",
       "      <th>count</th>\n",
       "    </tr>\n",
       "  </thead>\n",
       "  <tbody>\n",
       "    <tr>\n",
       "      <th>0</th>\n",
       "      <td>Agnostic</td>\n",
       "      <td>&lt;$10k</td>\n",
       "      <td>27</td>\n",
       "    </tr>\n",
       "    <tr>\n",
       "      <th>1</th>\n",
       "      <td>Atheist</td>\n",
       "      <td>&lt;$10k</td>\n",
       "      <td>12</td>\n",
       "    </tr>\n",
       "    <tr>\n",
       "      <th>2</th>\n",
       "      <td>Buddhist</td>\n",
       "      <td>&lt;$10k</td>\n",
       "      <td>27</td>\n",
       "    </tr>\n",
       "    <tr>\n",
       "      <th>3</th>\n",
       "      <td>Catholic</td>\n",
       "      <td>&lt;$10k</td>\n",
       "      <td>418</td>\n",
       "    </tr>\n",
       "    <tr>\n",
       "      <th>4</th>\n",
       "      <td>Dont know/refused</td>\n",
       "      <td>&lt;$10k</td>\n",
       "      <td>15</td>\n",
       "    </tr>\n",
       "    <tr>\n",
       "      <th>5</th>\n",
       "      <td>Evangelical Prot</td>\n",
       "      <td>&lt;$10k</td>\n",
       "      <td>575</td>\n",
       "    </tr>\n",
       "    <tr>\n",
       "      <th>6</th>\n",
       "      <td>Hindu</td>\n",
       "      <td>&lt;$10k</td>\n",
       "      <td>1</td>\n",
       "    </tr>\n",
       "    <tr>\n",
       "      <th>7</th>\n",
       "      <td>Historically Black Prot</td>\n",
       "      <td>&lt;$10k</td>\n",
       "      <td>228</td>\n",
       "    </tr>\n",
       "    <tr>\n",
       "      <th>8</th>\n",
       "      <td>Jehovahs Witness</td>\n",
       "      <td>&lt;$10k</td>\n",
       "      <td>20</td>\n",
       "    </tr>\n",
       "    <tr>\n",
       "      <th>9</th>\n",
       "      <td>Jewish</td>\n",
       "      <td>&lt;$10k</td>\n",
       "      <td>19</td>\n",
       "    </tr>\n",
       "  </tbody>\n",
       "</table>\n",
       "</div>"
      ],
      "text/plain": [
       "                   religion  income  count\n",
       "0                  Agnostic   <$10k     27\n",
       "1                   Atheist   <$10k     12\n",
       "2                  Buddhist   <$10k     27\n",
       "3                  Catholic   <$10k    418\n",
       "4         Dont know/refused   <$10k     15\n",
       "5         Evangelical Prot    <$10k    575\n",
       "6                    Hindu    <$10k      1\n",
       "7  Historically Black Prot    <$10k    228\n",
       "8         Jehovahs Witness    <$10k     20\n",
       "9                   Jewish    <$10k     19"
      ]
     },
     "execution_count": 323,
     "metadata": {},
     "output_type": "execute_result"
    }
   ],
   "source": [
    "\n",
    "# Using the function melt to reshape the DataFrame\n",
    "df_melted_pew = pd.melt(df_pew, id_vars=['religion'], var_name='income', value_name='count')\n",
    "\n",
    "# Output of the reshaped data\n",
    "df_melted_pew.head(10)\n"
   ]
  },
  {
   "attachments": {},
   "cell_type": "markdown",
   "metadata": {},
   "source": [
    "### **Billboard Dataset**"
   ]
  },
  {
   "attachments": {},
   "cell_type": "markdown",
   "metadata": {},
   "source": [
    "This dataset outlines data about the top hit songs on the Billboard list and the week from entrance that it was in the billboard with the ranking."
   ]
  },
  {
   "attachments": {},
   "cell_type": "markdown",
   "metadata": {},
   "source": [
    "1. Read the dataset and store it in a pandas dataframe. Note that the usual utf-8 encoding does not work on this dataset. The reason behind this is that there might be characters that are not supported by `utf-8`.\n",
    "\n",
    "The suggestion is to use for this dataset `unicode_escape` encoding. (converts all non-ASCII characters into their \\uXXXX representations)"
   ]
  },
  {
   "cell_type": "code",
   "execution_count": null,
   "metadata": {},
   "outputs": [
    {
     "name": "stdout",
     "output_type": "stream",
     "text": [
      "   year      artist.inverted                                  track  time  \\\n",
      "0  2000      Destiny's Child               Independent Women Part I  3:38   \n",
      "1  2000              Santana                           Maria, Maria  4:18   \n",
      "2  2000        Savage Garden                     I Knew I Loved You  4:07   \n",
      "3  2000              Madonna                                  Music  3:45   \n",
      "4  2000  Aguilera, Christina  Come On Over Baby (All I Want Is You)  3:38   \n",
      "\n",
      "  genre date.entered date.peaked  x1st.week  x2nd.week  x3rd.week  ...  \\\n",
      "0  Rock   2000-09-23  2000-11-18         78       63.0       49.0  ...   \n",
      "1  Rock   2000-02-12  2000-04-08         15        8.0        6.0  ...   \n",
      "2  Rock   1999-10-23  2000-01-29         71       48.0       43.0  ...   \n",
      "3  Rock   2000-08-12  2000-09-16         41       23.0       18.0  ...   \n",
      "4  Rock   2000-08-05  2000-10-14         57       47.0       45.0  ...   \n",
      "\n",
      "   x67th.week  x68th.week  x69th.week  x70th.week  x71st.week  x72nd.week  \\\n",
      "0         NaN         NaN         NaN         NaN         NaN         NaN   \n",
      "1         NaN         NaN         NaN         NaN         NaN         NaN   \n",
      "2         NaN         NaN         NaN         NaN         NaN         NaN   \n",
      "3         NaN         NaN         NaN         NaN         NaN         NaN   \n",
      "4         NaN         NaN         NaN         NaN         NaN         NaN   \n",
      "\n",
      "   x73rd.week  x74th.week  x75th.week  x76th.week  \n",
      "0         NaN         NaN         NaN         NaN  \n",
      "1         NaN         NaN         NaN         NaN  \n",
      "2         NaN         NaN         NaN         NaN  \n",
      "3         NaN         NaN         NaN         NaN  \n",
      "4         NaN         NaN         NaN         NaN  \n",
      "\n",
      "[5 rows x 83 columns]\n"
     ]
    }
   ],
   "source": [
    "\n",
    "# give the path to your Billboard CSV file\n",
    "file_path = 'CSVs/billboard.csv'  \n",
    "df_billboard = pd.read_csv(file_path, encoding='unicode_escape')\n",
    "\n",
    "# Print the first few rows of the DataFrame\n",
    "print(df_billboard.head())\n"
   ]
  },
  {
   "attachments": {},
   "cell_type": "markdown",
   "metadata": {},
   "source": [
    "2. Observe the first few rows of the dataset."
   ]
  },
  {
   "cell_type": "code",
   "execution_count": null,
   "metadata": {},
   "outputs": [
    {
     "name": "stdout",
     "output_type": "stream",
     "text": [
      "   year      artist.inverted                                  track  time  \\\n",
      "0  2000      Destiny's Child               Independent Women Part I  3:38   \n",
      "1  2000              Santana                           Maria, Maria  4:18   \n",
      "2  2000        Savage Garden                     I Knew I Loved You  4:07   \n",
      "3  2000              Madonna                                  Music  3:45   \n",
      "4  2000  Aguilera, Christina  Come On Over Baby (All I Want Is You)  3:38   \n",
      "\n",
      "  genre date.entered date.peaked  x1st.week  x2nd.week  x3rd.week  ...  \\\n",
      "0  Rock   2000-09-23  2000-11-18         78       63.0       49.0  ...   \n",
      "1  Rock   2000-02-12  2000-04-08         15        8.0        6.0  ...   \n",
      "2  Rock   1999-10-23  2000-01-29         71       48.0       43.0  ...   \n",
      "3  Rock   2000-08-12  2000-09-16         41       23.0       18.0  ...   \n",
      "4  Rock   2000-08-05  2000-10-14         57       47.0       45.0  ...   \n",
      "\n",
      "   x67th.week  x68th.week  x69th.week  x70th.week  x71st.week  x72nd.week  \\\n",
      "0         NaN         NaN         NaN         NaN         NaN         NaN   \n",
      "1         NaN         NaN         NaN         NaN         NaN         NaN   \n",
      "2         NaN         NaN         NaN         NaN         NaN         NaN   \n",
      "3         NaN         NaN         NaN         NaN         NaN         NaN   \n",
      "4         NaN         NaN         NaN         NaN         NaN         NaN   \n",
      "\n",
      "   x73rd.week  x74th.week  x75th.week  x76th.week  \n",
      "0         NaN         NaN         NaN         NaN  \n",
      "1         NaN         NaN         NaN         NaN  \n",
      "2         NaN         NaN         NaN         NaN  \n",
      "3         NaN         NaN         NaN         NaN  \n",
      "4         NaN         NaN         NaN         NaN  \n",
      "\n",
      "[5 rows x 83 columns]\n"
     ]
    }
   ],
   "source": [
    "\n",
    "# observe the first 5 rows of the dataset\n",
    "print(df_billboard.head())\n"
   ]
  },
  {
   "attachments": {},
   "cell_type": "markdown",
   "metadata": {},
   "source": [
    "***What is wrong with the above dataset?***"
   ]
  },
  {
   "attachments": {},
   "cell_type": "markdown",
   "metadata": {},
   "source": [
    "3. Let's, again, use the `melt` function to fix the general structure of the dataframe."
   ]
  },
  {
   "cell_type": "code",
   "execution_count": null,
   "metadata": {},
   "outputs": [
    {
     "name": "stdout",
     "output_type": "stream",
     "text": [
      "      year      artist.inverted                                  track  time  \\\n",
      "0     2000      Destiny's Child               Independent Women Part I  3:38   \n",
      "1     2000              Santana                           Maria, Maria  4:18   \n",
      "2     2000        Savage Garden                     I Knew I Loved You  4:07   \n",
      "3     2000              Madonna                                  Music  3:45   \n",
      "4     2000  Aguilera, Christina  Come On Over Baby (All I Want Is You)  3:38   \n",
      "...    ...                  ...                                    ...   ...   \n",
      "1010  2000               Filter                         Take A Picture  4:23   \n",
      "1011  2000        Martin, Ricky                              She Bangs  4:02   \n",
      "1012  2000             Mystikal                           Shake Ya Ass  4:46   \n",
      "1013  2000                BBMak                              Back Here  3:35   \n",
      "1014  2000      Spears, Britney     From The Bottom Of My Broken Heart  4:30   \n",
      "\n",
      "      genre date.entered date.peaked       week  rank  \n",
      "0      Rock   2000-09-23  2000-11-18  x1st.week  78.0  \n",
      "1      Rock   2000-02-12  2000-04-08  x1st.week  15.0  \n",
      "2      Rock   1999-10-23  2000-01-29  x1st.week  71.0  \n",
      "3      Rock   2000-08-12  2000-09-16  x1st.week  41.0  \n",
      "4      Rock   2000-08-05  2000-10-14  x1st.week  57.0  \n",
      "...     ...          ...         ...        ...   ...  \n",
      "1010   Rock   1999-11-27  2000-02-05  x4th.week  52.0  \n",
      "1011  Latin   2000-10-07  2000-12-02  x4th.week  21.0  \n",
      "1012    Rap   2000-08-12  2000-10-28  x4th.week  41.0  \n",
      "1013   Rock   2000-04-29  2000-07-29  x4th.week  52.0  \n",
      "1014   Rock   2000-01-29  2000-02-26  x4th.week  52.0  \n",
      "\n",
      "[1000 rows x 9 columns]\n"
     ]
    }
   ],
   "source": [
    "\n",
    "# Using the melt function to reshape the DataFrame for Billboard data\n",
    "df_melted_billboard = pd.melt(\n",
    "    df_billboard,\n",
    "    id_vars=['year', 'artist.inverted', 'track', 'time', 'genre', 'date.entered', 'date.peaked'],\n",
    "    var_name='week',\n",
    "    value_name='rank'\n",
    ")\n",
    "\n",
    "# Drop rows with missing rank values (NaN)\n",
    "df_melted_billboard = df_melted_billboard.dropna(subset=['rank'])\n",
    "\n",
    "# print the reshaped data\n",
    "print(df_melted_billboard.head(1000))\n"
   ]
  },
  {
   "attachments": {},
   "cell_type": "markdown",
   "metadata": {},
   "source": [
    "If we inspect the current dataframe. We find that it is structured in a better way than before. \n",
    "\n",
    "However, the ***Week*** column looks a bit ugly!\n",
    "\n",
    "4. Let's try to place only the week number in that column without the extras surronding it."
   ]
  },
  {
   "cell_type": "code",
   "execution_count": 327,
   "metadata": {},
   "outputs": [
    {
     "name": "stdout",
     "output_type": "stream",
     "text": [
      "      year      artist.inverted                                  track  time  \\\n",
      "0     2000      Destiny's Child               Independent Women Part I  3:38   \n",
      "1     2000              Santana                           Maria, Maria  4:18   \n",
      "2     2000        Savage Garden                     I Knew I Loved You  4:07   \n",
      "3     2000              Madonna                                  Music  3:45   \n",
      "4     2000  Aguilera, Christina  Come On Over Baby (All I Want Is You)  3:38   \n",
      "...    ...                  ...                                    ...   ...   \n",
      "1010  2000               Filter                         Take A Picture  4:23   \n",
      "1011  2000        Martin, Ricky                              She Bangs  4:02   \n",
      "1012  2000             Mystikal                           Shake Ya Ass  4:46   \n",
      "1013  2000                BBMak                              Back Here  3:35   \n",
      "1014  2000      Spears, Britney     From The Bottom Of My Broken Heart  4:30   \n",
      "\n",
      "      genre date.entered date.peaked  week  rank  \n",
      "0      Rock   2000-09-23  2000-11-18     1  78.0  \n",
      "1      Rock   2000-02-12  2000-04-08     1  15.0  \n",
      "2      Rock   1999-10-23  2000-01-29     1  71.0  \n",
      "3      Rock   2000-08-12  2000-09-16     1  41.0  \n",
      "4      Rock   2000-08-05  2000-10-14     1  57.0  \n",
      "...     ...          ...         ...   ...   ...  \n",
      "1010   Rock   1999-11-27  2000-02-05     4  52.0  \n",
      "1011  Latin   2000-10-07  2000-12-02     4  21.0  \n",
      "1012    Rap   2000-08-12  2000-10-28     4  41.0  \n",
      "1013   Rock   2000-04-29  2000-07-29     4  52.0  \n",
      "1014   Rock   2000-01-29  2000-02-26     4  52.0  \n",
      "\n",
      "[1000 rows x 9 columns]\n"
     ]
    }
   ],
   "source": [
    "# Clean the 'week' column\n",
    "df_melted_billboard['week'] = df_melted_billboard['week'].astype(str).str.extract(r'(\\d+)').astype(int)\n",
    "\n",
    "# Print the first few cleaned rows\n",
    "print(df_melted_billboard.head(1000))\n"
   ]
  },
  {
   "attachments": {},
   "cell_type": "markdown",
   "metadata": {},
   "source": [
    "5. Now let's inspect the ***Week*** column in the dataframe."
   ]
  },
  {
   "cell_type": "code",
   "execution_count": 328,
   "metadata": {},
   "outputs": [
    {
     "name": "stdout",
     "output_type": "stream",
     "text": [
      "0    1\n",
      "1    1\n",
      "2    1\n",
      "3    1\n",
      "4    1\n",
      "Name: week, dtype: int64\n",
      "\n",
      "Unique weeks: [ 1  2  3  4  5  6  7  8  9 10 11 12 13 14 15 16 17 18 19 20 21 22 23 24\n",
      " 25 26 27 28 29 30 31 32 33 34 35 36 37 38 39 40 41 42 43 44 45 46 47 48\n",
      " 49 50 51 52 53 54 55 56 57 58 59 60 61 62 63 64 65]\n",
      "\n",
      "Week column stats:\n",
      "count    5307.000000\n",
      "mean       11.470699\n",
      "std         9.001300\n",
      "min         1.000000\n",
      "25%         5.000000\n",
      "50%        10.000000\n",
      "75%        16.000000\n",
      "max        65.000000\n",
      "Name: week, dtype: float64\n"
     ]
    }
   ],
   "source": [
    "# 1. Display the first few values in the 'week' column\n",
    "print(df_melted_billboard['week'].head())\n",
    "\n",
    "# 2. Display unique values in the 'week' column\n",
    "print(\"\\nUnique weeks:\", df_melted_billboard['week'].unique())\n",
    "print(\"\\nWeek column stats:\")\n",
    "print(df_melted_billboard['week'].describe())\n"
   ]
  },
  {
   "attachments": {},
   "cell_type": "markdown",
   "metadata": {},
   "source": [
    "Next, let's try to find the date at which the song ranked the number that is shown per row.\n",
    "\n",
    "6. To do that let's first think of the equation that is going to get us the relevant date at which the song ranked the *rth*.\n",
    "\n"
   ]
  },
  {
   "cell_type": "code",
   "execution_count": 329,
   "metadata": {},
   "outputs": [
    {
     "name": "stdout",
     "output_type": "stream",
     "text": [
      "     year      artist.inverted                                  track  time  \\\n",
      "0    2000      Destiny's Child               Independent Women Part I  3:38   \n",
      "1    2000              Santana                           Maria, Maria  4:18   \n",
      "2    2000        Savage Garden                     I Knew I Loved You  4:07   \n",
      "3    2000              Madonna                                  Music  3:45   \n",
      "4    2000  Aguilera, Christina  Come On Over Baby (All I Want Is You)  3:38   \n",
      "..    ...                  ...                                    ...   ...   \n",
      "995  2000               Filter                         Take A Picture  4:23   \n",
      "996  2000        Martin, Ricky                              She Bangs  4:02   \n",
      "997  2000             Mystikal                           Shake Ya Ass  4:46   \n",
      "998  2000                BBMak                              Back Here  3:35   \n",
      "999  2000      Spears, Britney     From The Bottom Of My Broken Heart  4:30   \n",
      "\n",
      "     genre date.entered_x date.peaked  week  rank date.entered_y date.ranked  \n",
      "0     Rock     2000-09-23  2000-11-18     1  78.0     2000-09-23  2000-09-23  \n",
      "1     Rock     2000-02-12  2000-04-08     1  15.0     2000-02-12  2000-02-12  \n",
      "2     Rock     1999-10-23  2000-01-29     1  71.0     1999-10-23  1999-10-23  \n",
      "3     Rock     2000-08-12  2000-09-16     1  41.0     2000-08-12  2000-08-12  \n",
      "4     Rock     2000-08-05  2000-10-14     1  57.0     2000-08-05  2000-08-05  \n",
      "..     ...            ...         ...   ...   ...            ...         ...  \n",
      "995   Rock     1999-11-27  2000-02-05     4  52.0     1999-11-27  1999-12-18  \n",
      "996  Latin     2000-10-07  2000-12-02     4  21.0     2000-10-07  2000-10-28  \n",
      "997    Rap     2000-08-12  2000-10-28     4  41.0     2000-08-12  2000-09-02  \n",
      "998   Rock     2000-04-29  2000-07-29     4  52.0     2000-04-29  2000-05-20  \n",
      "999   Rock     2000-01-29  2000-02-26     4  52.0     2000-01-29  2000-02-19  \n",
      "\n",
      "[1000 rows x 11 columns]\n"
     ]
    }
   ],
   "source": [
    "# Ensure both columns are string type before merging\n",
    "df_melted_billboard['artist.inverted'] = df_melted_billboard['artist.inverted'].astype(str)\n",
    "df_billboard['artist.inverted'] = df_billboard['artist.inverted'].astype(str)\n",
    "\n",
    "df_melted_billboard = df_melted_billboard.merge(\n",
    "    df_billboard[['track', 'artist.inverted', 'date.entered']],\n",
    "    on=['track', 'artist.inverted'],\n",
    "    how='left'\n",
    ")\n",
    "\n",
    "# Ensure 'date.entered_y' is in datetime format\n",
    "df_melted_billboard['date.entered_y'] = pd.to_datetime(df_melted_billboard['date.entered_y'], errors='coerce')\n",
    "\n",
    "# Now safely calculate the date when the rank was recorded\n",
    "df_melted_billboard['date.ranked'] = df_melted_billboard['date.entered_y'] + pd.to_timedelta(df_melted_billboard['week'] - 1, unit='W')\n",
    "\n",
    "# Show sample output\n",
    "print(df_melted_billboard.head(1000))\n",
    "\n"
   ]
  },
  {
   "attachments": {},
   "cell_type": "markdown",
   "metadata": {},
   "source": [
    "*Timedeltas are absolute differences in times, expressed in difference units (e.g. days, hours, minutes, seconds). This method converts an argument from a recognized timedelta format / value into a Timedelta type.*\n"
   ]
  },
  {
   "attachments": {},
   "cell_type": "markdown",
   "metadata": {},
   "source": [
    "***What is the problem with the calculation above?***"
   ]
  },
  {
   "attachments": {},
   "cell_type": "markdown",
   "metadata": {},
   "source": [
    "7. Let's only keep necessary columns"
   ]
  },
  {
   "cell_type": "code",
   "execution_count": 330,
   "metadata": {},
   "outputs": [
    {
     "name": "stdout",
     "output_type": "stream",
     "text": [
      "                                     track      artist.inverted  rank  week  \\\n",
      "0                 Independent Women Part I      Destiny's Child  78.0     1   \n",
      "1                             Maria, Maria              Santana  15.0     1   \n",
      "2                       I Knew I Loved You        Savage Garden  71.0     1   \n",
      "3                                    Music              Madonna  41.0     1   \n",
      "4    Come On Over Baby (All I Want Is You)  Aguilera, Christina  57.0     1   \n",
      "..                                     ...                  ...   ...   ...   \n",
      "995                         Take A Picture               Filter  52.0     4   \n",
      "996                              She Bangs        Martin, Ricky  21.0     4   \n",
      "997                           Shake Ya Ass             Mystikal  41.0     4   \n",
      "998                              Back Here                BBMak  52.0     4   \n",
      "999     From The Bottom Of My Broken Heart      Spears, Britney  52.0     4   \n",
      "\n",
      "    date.ranked  \n",
      "0    2000-09-23  \n",
      "1    2000-02-12  \n",
      "2    1999-10-23  \n",
      "3    2000-08-12  \n",
      "4    2000-08-05  \n",
      "..          ...  \n",
      "995  1999-12-18  \n",
      "996  2000-10-28  \n",
      "997  2000-09-02  \n",
      "998  2000-05-20  \n",
      "999  2000-02-19  \n",
      "\n",
      "[1000 rows x 5 columns]\n"
     ]
    }
   ],
   "source": [
    "# Keep only the necessary columns\n",
    "df_melted_billboard= df_melted_billboard[['track', 'artist.inverted', 'rank', 'week', 'date.ranked']]\n",
    "\n",
    "# Display the cleaned dataframe\n",
    "print(df_melted_billboard.head(1000))\n"
   ]
  },
  {
   "attachments": {},
   "cell_type": "markdown",
   "metadata": {},
   "source": [
    "8. How to rename your columns?"
   ]
  },
  {
   "cell_type": "code",
   "execution_count": 331,
   "metadata": {},
   "outputs": [
    {
     "name": "stdout",
     "output_type": "stream",
     "text": [
      "Index(['title', 'artist', 'position', 'week', 'date.ranked'], dtype='object')\n",
      "                                     title               artist  position  \\\n",
      "0                 Independent Women Part I      Destiny's Child      78.0   \n",
      "1                             Maria, Maria              Santana      15.0   \n",
      "2                       I Knew I Loved You        Savage Garden      71.0   \n",
      "3                                    Music              Madonna      41.0   \n",
      "4    Come On Over Baby (All I Want Is You)  Aguilera, Christina      57.0   \n",
      "..                                     ...                  ...       ...   \n",
      "995                         Take A Picture               Filter      52.0   \n",
      "996                              She Bangs        Martin, Ricky      21.0   \n",
      "997                           Shake Ya Ass             Mystikal      41.0   \n",
      "998                              Back Here                BBMak      52.0   \n",
      "999     From The Bottom Of My Broken Heart      Spears, Britney      52.0   \n",
      "\n",
      "     week date.ranked  \n",
      "0       1  2000-09-23  \n",
      "1       1  2000-02-12  \n",
      "2       1  1999-10-23  \n",
      "3       1  2000-08-12  \n",
      "4       1  2000-08-05  \n",
      "..    ...         ...  \n",
      "995     4  1999-12-18  \n",
      "996     4  2000-10-28  \n",
      "997     4  2000-09-02  \n",
      "998     4  2000-05-20  \n",
      "999     4  2000-02-19  \n",
      "\n",
      "[1000 rows x 5 columns]\n"
     ]
    }
   ],
   "source": [
    "# Rename columns for clarity\n",
    "df_melted_billboard = df_melted_billboard.rename(columns={\n",
    "    'artist.inverted': 'artist',\n",
    "    'track': 'title',\n",
    "    'rank': 'position'\n",
    "})\n",
    "\n",
    "# Optional: View updated column names\n",
    "print(df_melted_billboard.columns)\n",
    "print(df_melted_billboard.head(1000))\n",
    "\n"
   ]
  },
  {
   "attachments": {},
   "cell_type": "markdown",
   "metadata": {},
   "source": [
    "Display the dataframe"
   ]
  },
  {
   "attachments": {},
   "cell_type": "markdown",
   "metadata": {},
   "source": [
    "In the above dataframe, there are some *NaN* values. What are we going to do? <br/>\n",
    "9. Apply quick data cleaning and then observe the dataset"
   ]
  },
  {
   "cell_type": "code",
   "execution_count": 332,
   "metadata": {},
   "outputs": [
    {
     "name": "stdout",
     "output_type": "stream",
     "text": [
      "                                   title               artist  position  week  \\\n",
      "0               Independent Women Part I      Destiny's Child      78.0     1   \n",
      "1                           Maria, Maria              Santana      15.0     1   \n",
      "2                     I Knew I Loved You        Savage Garden      71.0     1   \n",
      "3                                  Music              Madonna      41.0     1   \n",
      "4  Come On Over Baby (All I Want Is You)  Aguilera, Christina      57.0     1   \n",
      "5                  Doesn't Really Matter                Janet      59.0     1   \n",
      "6                            Say My Name      Destiny's Child      83.0     1   \n",
      "7                            Be With You    Iglesias, Enrique      63.0     1   \n",
      "8                             Incomplete                Sisqo      77.0     1   \n",
      "9                                 Amazed             Lonestar      81.0     1   \n",
      "\n",
      "  date.ranked  \n",
      "0  2000-09-23  \n",
      "1  2000-02-12  \n",
      "2  1999-10-23  \n",
      "3  2000-08-12  \n",
      "4  2000-08-05  \n",
      "5  2000-06-17  \n",
      "6  1999-12-25  \n",
      "7  2000-04-01  \n",
      "8  2000-06-24  \n",
      "9  1999-06-05  \n",
      "\n",
      "Shape of cleaned dataset: (5307, 5)\n",
      "\n",
      "Missing values:\n",
      " title          0\n",
      "artist         0\n",
      "position       0\n",
      "week           0\n",
      "date.ranked    0\n",
      "dtype: int64\n"
     ]
    }
   ],
   "source": [
    "\n",
    "# Step 9: Drop all rows with any remaining NaN values\n",
    "df_cleaned = df_melted_billboard.dropna()\n",
    "\n",
    "# Optional: View cleaned data and its structure\n",
    "print(df_cleaned.head(10))\n",
    "print(\"\\nShape of cleaned dataset:\", df_cleaned.shape)\n",
    "print(\"\\nMissing values:\\n\", df_cleaned.isnull().sum())\n",
    "\n"
   ]
  },
  {
   "attachments": {},
   "cell_type": "markdown",
   "metadata": {},
   "source": [
    "## **Data Cleaning**\n",
    "\n",
    "Data cleaning involves removing unwanted characters, imputing, or dropping missing values.\n",
    "\n",
    "The decision is based on the dataset you have, and the information you can extract from the other columns.\n",
    "\n",
    "\n",
    "Examples of data cleaning include cleaning:\n",
    "\n",
    "1.   **Missing Data**\n",
    "2.   **Irregular Data** (Outliers)\n",
    "3.   **Unnecessary Data** — Repetitive Data, Duplicates and more\n",
    "4.   **Inconsistent Data** — Capitalization, Addresses and more\n",
    "\n",
    "\n",
    "\n",
    "\n",
    "\n",
    "\n"
   ]
  },
  {
   "attachments": {},
   "cell_type": "markdown",
   "metadata": {},
   "source": [
    "### **Cars Data Set**"
   ]
  },
  {
   "attachments": {},
   "cell_type": "markdown",
   "metadata": {},
   "source": [
    "Start by reading the dataset related to car models: ./CSVs/cars.csv"
   ]
  },
  {
   "attachments": {},
   "cell_type": "markdown",
   "metadata": {},
   "source": [
    "First Row seems to be the datatype, we need to remove it"
   ]
  },
  {
   "attachments": {},
   "cell_type": "markdown",
   "metadata": {},
   "source": [
    "Let's observe the columns with null values.  Either by using the `isnull().sum()` function "
   ]
  },
  {
   "attachments": {},
   "cell_type": "markdown",
   "metadata": {},
   "source": [
    "There aren't many missing values. Let's take a glimpse at the percentage of the missing values:\n",
    "\n",
    "**HINT:** We'll need `Numpy` for the below task."
   ]
  },
  {
   "attachments": {},
   "cell_type": "markdown",
   "metadata": {},
   "source": [
    "Around *0.19%* of the values are missing, which isn't a lot. Therefore, we might go with the option of dropping all the rows with null values."
   ]
  },
  {
   "attachments": {},
   "cell_type": "markdown",
   "metadata": {},
   "source": [
    "Lets also check dropping the columns"
   ]
  },
  {
   "attachments": {},
   "cell_type": "markdown",
   "metadata": {},
   "source": [
    "Let's observe how many columns we lost"
   ]
  },
  {
   "attachments": {},
   "cell_type": "markdown",
   "metadata": {},
   "source": [
    "### **Cars Dataset - Filling in missing values automatically**\n",
    "\n",
    "Another option is to try and fill in the missing values through imputations."
   ]
  },
  {
   "attachments": {},
   "cell_type": "markdown",
   "metadata": {},
   "source": [
    "Let's take the `MPG` column for example. We can fill in the missing values with 0s through the following line of code:\n",
    "\n",
    "`df_cars.fillna(0) `. "
   ]
  },
  {
   "attachments": {},
   "cell_type": "markdown",
   "metadata": {},
   "source": [
    "However, this does not make much sense as there isn't MPG equal to 0. How about we plot the MPG column and if it follows a random distribution we can use the mean of the column to compute the missing values. Otherwise, we can use the median (if there is a skewed normal distribution). However, there might be a better way of imputation which is getting the median or the mean of the MPG of the cars with similar attributes."
   ]
  },
  {
   "attachments": {},
   "cell_type": "markdown",
   "metadata": {},
   "source": [
    "If we observe the graph above, we can consider it in a way or another normally distributed. Therefore, we can impute the missing values using the mean."
   ]
  },
  {
   "attachments": {},
   "cell_type": "markdown",
   "metadata": {},
   "source": [
    "To compute the mean we need numeric values. However the values in the dataframe are objects. Therefore, we need to change them to numerics so that we can compute them."
   ]
  },
  {
   "attachments": {},
   "cell_type": "markdown",
   "metadata": {},
   "source": [
    "Now let's see what is the mean of the MPG column"
   ]
  },
  {
   "attachments": {},
   "cell_type": "markdown",
   "metadata": {},
   "source": [
    "We can use this mean to compute the missing values since the graph demonstarted a normal distribution"
   ]
  },
  {
   "cell_type": "code",
   "execution_count": 345,
   "metadata": {},
   "outputs": [
    {
     "name": "stdout",
     "output_type": "stream",
     "text": [
      "Initial dataset preview:\n",
      "                         Car   MPG  Cylinders  Displacement  Horsepower  \\\n",
      "0  Chevrolet Chevelle Malibu   NaN          8         307.0       130.0   \n",
      "1          Buick Skylark 320  15.0          8         350.0         NaN   \n",
      "2         Plymouth Satellite   NaN          8         318.0       150.0   \n",
      "3              AMC Rebel SST  16.0          8           NaN       150.0   \n",
      "4                Ford Torino  17.0          8         302.0       140.0   \n",
      "\n",
      "   Weight  Acceleration  Model Origin  \n",
      "0  3504.0          12.0     70     US  \n",
      "1  3693.0          11.5     70     US  \n",
      "2  3436.0          11.0     70     US  \n",
      "3     NaN          12.0     70     US  \n",
      "4  3449.0          10.5     70     US  \n",
      "\n",
      "Missing values per column:\n",
      "Car             0\n",
      "MPG             3\n",
      "Cylinders       0\n",
      "Displacement    1\n",
      "Horsepower      2\n",
      "Weight          1\n",
      "Acceleration    0\n",
      "Model           0\n",
      "Origin          0\n",
      "dtype: int64\n",
      "\n",
      "Cleaned dataset info:\n",
      "<class 'pandas.core.frame.DataFrame'>\n",
      "RangeIndex: 406 entries, 0 to 405\n",
      "Data columns (total 9 columns):\n",
      " #   Column        Non-Null Count  Dtype  \n",
      "---  ------        --------------  -----  \n",
      " 0   Car           406 non-null    object \n",
      " 1   MPG           406 non-null    float64\n",
      " 2   Cylinders     406 non-null    int64  \n",
      " 3   Displacement  406 non-null    float64\n",
      " 4   Horsepower    406 non-null    float64\n",
      " 5   Weight        406 non-null    float64\n",
      " 6   Acceleration  406 non-null    float64\n",
      " 7   Model         406 non-null    int64  \n",
      " 8   Origin        406 non-null    object \n",
      "dtypes: float64(5), int64(2), object(2)\n",
      "memory usage: 28.7+ KB\n",
      "None\n",
      "\n",
      "Cleaned data sample:\n",
      "                         Car   MPG  Cylinders  Displacement  Horsepower  \\\n",
      "0  Chevrolet Chevelle Malibu  22.5          8         307.0       130.0   \n",
      "1          Buick Skylark 320  15.0          8         350.0        92.5   \n",
      "2         Plymouth Satellite  22.5          8         318.0       150.0   \n",
      "3              AMC Rebel SST  16.0          8         151.0       150.0   \n",
      "4                Ford Torino  17.0          8         302.0       140.0   \n",
      "\n",
      "   Weight  Acceleration  Model Origin  \n",
      "0  3504.0          12.0     70     US  \n",
      "1  3693.0          11.5     70     US  \n",
      "2  3436.0          11.0     70     US  \n",
      "3  2815.0          12.0     70     US  \n",
      "4  3449.0          10.5     70     US  \n"
     ]
    },
    {
     "name": "stderr",
     "output_type": "stream",
     "text": [
      "C:\\Users\\singh\\AppData\\Local\\Temp\\ipykernel_21056\\3205746669.py:19: FutureWarning: A value is trying to be set on a copy of a DataFrame or Series through chained assignment using an inplace method.\n",
      "The behavior will change in pandas 3.0. This inplace method will never work because the intermediate object on which we are setting values always behaves as a copy.\n",
      "\n",
      "For example, when doing 'df[col].method(value, inplace=True)', try using 'df.method({col: value}, inplace=True)' or df[col] = df[col].method(value) instead, to perform the operation inplace on the original object.\n",
      "\n",
      "\n",
      "  cars[\"MPG\"].fillna(cars[\"MPG\"].median(), inplace=True)\n",
      "C:\\Users\\singh\\AppData\\Local\\Temp\\ipykernel_21056\\3205746669.py:20: FutureWarning: A value is trying to be set on a copy of a DataFrame or Series through chained assignment using an inplace method.\n",
      "The behavior will change in pandas 3.0. This inplace method will never work because the intermediate object on which we are setting values always behaves as a copy.\n",
      "\n",
      "For example, when doing 'df[col].method(value, inplace=True)', try using 'df.method({col: value}, inplace=True)' or df[col] = df[col].method(value) instead, to perform the operation inplace on the original object.\n",
      "\n",
      "\n",
      "  cars[\"Horsepower\"].fillna(cars[\"Horsepower\"].median(), inplace=True)\n",
      "C:\\Users\\singh\\AppData\\Local\\Temp\\ipykernel_21056\\3205746669.py:21: FutureWarning: A value is trying to be set on a copy of a DataFrame or Series through chained assignment using an inplace method.\n",
      "The behavior will change in pandas 3.0. This inplace method will never work because the intermediate object on which we are setting values always behaves as a copy.\n",
      "\n",
      "For example, when doing 'df[col].method(value, inplace=True)', try using 'df.method({col: value}, inplace=True)' or df[col] = df[col].method(value) instead, to perform the operation inplace on the original object.\n",
      "\n",
      "\n",
      "  cars[\"Displacement\"].fillna(cars[\"Displacement\"].median(), inplace=True)\n",
      "C:\\Users\\singh\\AppData\\Local\\Temp\\ipykernel_21056\\3205746669.py:22: FutureWarning: A value is trying to be set on a copy of a DataFrame or Series through chained assignment using an inplace method.\n",
      "The behavior will change in pandas 3.0. This inplace method will never work because the intermediate object on which we are setting values always behaves as a copy.\n",
      "\n",
      "For example, when doing 'df[col].method(value, inplace=True)', try using 'df.method({col: value}, inplace=True)' or df[col] = df[col].method(value) instead, to perform the operation inplace on the original object.\n",
      "\n",
      "\n",
      "  cars[\"Weight\"].fillna(cars[\"Weight\"].median(), inplace=True)\n"
     ]
    }
   ],
   "source": [
    "\n",
    "\n",
    "# 1. Load the dataset (skip the first metadata row and use ';' as separator)\n",
    "cars = pd.read_csv(\"CSVs/cars.csv\", skiprows=[1],sep=\";\")\n",
    "\n",
    "# 2. View the first few rows\n",
    "print(\"Initial dataset preview:\")\n",
    "print(cars.head())\n",
    "\n",
    "# 3. Check for missing values\n",
    "print(\"\\nMissing values per column:\")\n",
    "print(cars.isna().sum())\n",
    "\n",
    "# 4. Convert relevant columns to numeric (force coercion of invalid strings)\n",
    "cars[\"MPG\"] = pd.to_numeric(cars[\"MPG\"], errors=\"coerce\")\n",
    "cars[\"Horsepower\"] = pd.to_numeric(cars[\"Horsepower\"], errors=\"coerce\")\n",
    "cars[\"Displacement\"] = pd.to_numeric(cars[\"Displacement\"], errors=\"coerce\")\n",
    "cars[\"Weight\"] = pd.to_numeric(cars[\"Weight\"], errors=\"coerce\")\n",
    "\n",
    "# 5. Handle missing data\n",
    "cars[\"MPG\"].fillna(cars[\"MPG\"].median(), inplace=True)\n",
    "cars[\"Horsepower\"].fillna(cars[\"Horsepower\"].median(), inplace=True)\n",
    "cars[\"Displacement\"].fillna(cars[\"Displacement\"].median(), inplace=True)\n",
    "cars[\"Weight\"].fillna(cars[\"Weight\"].median(), inplace=True)\n",
    "\n",
    "# 6. Drop any rows still containing NaN\n",
    "cars.dropna(inplace=True)\n",
    "\n",
    "# 7. Remove duplicate entries\n",
    "cars_cleaned = cars.drop_duplicates()\n",
    " # 8. Final dataset info\n",
    "print(\"\\nCleaned dataset info:\")\n",
    "print(cars_cleaned.info())\n",
    "\n",
    "# 9. Preview cleaned data\n",
    "print(\"\\nCleaned data sample:\")\n",
    "print(cars_cleaned.head())"
   ]
  },
  {
   "attachments": {},
   "cell_type": "markdown",
   "metadata": {},
   "source": [
    "### **Car Dataset - Simple Imputer**"
   ]
  },
  {
   "attachments": {},
   "cell_type": "markdown",
   "metadata": {},
   "source": [
    "*SimpleImputer* is a `scikit-learn` class which is helpful in handling the missing data in the predictive model dataset. It replaces the `NaN` values with a specified placeholder.\n",
    "It is implemented by the use of the `SimpleImputer()` method which takes the following arguments :\n",
    "\n",
    "`missing_values` : The missing_values placeholder which has to be imputed. By default is NaN\n",
    "\n",
    "`strategy` : The data which will replace the NaN values from the dataset. The strategy argument can take the values – ‘mean'(default), ‘median’, ‘most_frequent’ and ‘constant’.\n"
   ]
  },
  {
   "attachments": {},
   "cell_type": "markdown",
   "metadata": {},
   "source": [
    "Let's start by importing the `SimpleImputer` into our notebook"
   ]
  },
  {
   "attachments": {},
   "cell_type": "markdown",
   "metadata": {},
   "source": [
    "What we need to do are two essential steps:\n",
    "\n",
    "1. fit the data (compute the mean / median / most freq)\n",
    "2. transform the data (place the computed values in the NaN cells)"
   ]
  },
  {
   "cell_type": "code",
   "execution_count": 344,
   "metadata": {},
   "outputs": [
    {
     "name": "stdout",
     "output_type": "stream",
     "text": [
      "\n",
      "Cleaned Cars Dataset:\n",
      "                         Car   MPG  Cylinders  Displacement  Horsepower  \\\n",
      "0  Chevrolet Chevelle Malibu  22.5          8         307.0       130.0   \n",
      "1          Buick Skylark 320  15.0          8         350.0        92.5   \n",
      "2         Plymouth Satellite  22.5          8         318.0       150.0   \n",
      "3              AMC Rebel SST  16.0          8         151.0       150.0   \n",
      "4                Ford Torino  17.0          8         302.0       140.0   \n",
      "\n",
      "   Weight  Acceleration  Model Origin  \n",
      "0  3504.0          12.0     70     US  \n",
      "1  3693.0          11.5     70     US  \n",
      "2  3436.0          11.0     70     US  \n",
      "3  2815.0          12.0     70     US  \n",
      "4  3449.0          10.5     70     US  \n"
     ]
    }
   ],
   "source": [
    "\n",
    "\n",
    "# Load and skip data type row\n",
    "cars = pd.read_csv(\"CSVs/cars.csv\", sep=\";\", skiprows=[1])\n",
    "\n",
    "# Columns to convert\n",
    "numeric_cols = [\"MPG\", \"Displacement\", \"Horsepower\", \"Weight\", \"Acceleration\"]\n",
    "\n",
    "# Convert to numeric\n",
    "for col in numeric_cols:\n",
    "    cars[col] = pd.to_numeric(cars[col], errors=\"coerce\")\n",
    "\n",
    "# Impute using median\n",
    "imputer = SimpleImputer(strategy=\"median\")\n",
    "cars[numeric_cols] = imputer.fit_transform(cars[numeric_cols])\n",
    "\n",
    "# Drop remaining NaNs and duplicates\n",
    "cars.dropna(inplace=True)\n",
    "cars_cleaned = cars.drop_duplicates().reset_index(drop=True)\n",
    "\n",
    "print(\"\\nCleaned Cars Dataset:\")\n",
    "print(cars_cleaned.head())"
   ]
  },
  {
   "cell_type": "markdown",
   "metadata": {},
   "source": [
    "## **Outlier Detection** \n",
    "\n",
    "\n",
    "An Outlier is a data-item/object that deviates significantly from the rest of the (so-called normal)objects. They can be caused by measurement or execution errors. The analysis for outlier detection is referred to as outlier mining. There are many ways to detect the outliers, and the removal process is the data frame same as removing a data item from the panda’s data frame.\n",
    "\n",
    "\n",
    "\n",
    "https://www.geeksforgeeks.org/detect-and-remove-the-outliers-using-python/\n",
    "\n",
    "\n",
    "\n"
   ]
  },
  {
   "cell_type": "code",
   "execution_count": 347,
   "metadata": {},
   "outputs": [
    {
     "name": "stdout",
     "output_type": "stream",
     "text": [
      "\n",
      "Initial Diabetes Dataset:\n",
      "        age       sex       bmi        bp        s1        s2        s3  \\\n",
      "0  0.038076  0.050680  0.061696  0.021872 -0.044223 -0.034821 -0.043401   \n",
      "1 -0.001882 -0.044642 -0.051474 -0.026328 -0.008449 -0.019163  0.074412   \n",
      "2  0.085299  0.050680  0.044451 -0.005670 -0.045599 -0.034194 -0.032356   \n",
      "3 -0.089063 -0.044642 -0.011595 -0.036656  0.012191  0.024991 -0.036038   \n",
      "4  0.005383 -0.044642 -0.036385  0.021872  0.003935  0.015596  0.008142   \n",
      "\n",
      "         s4        s5        s6  \n",
      "0 -0.002592  0.019907 -0.017646  \n",
      "1 -0.039493 -0.068332 -0.092204  \n",
      "2 -0.002592  0.002861 -0.025930  \n",
      "3  0.034309  0.022688 -0.009362  \n",
      "4 -0.002592 -0.031988 -0.046641  \n"
     ]
    }
   ],
   "source": [
    "\n",
    "\n",
    "# Load dataset\n",
    "data = load_diabetes()\n",
    "df = pd.DataFrame(data.data, columns=data.feature_names)\n",
    "\n",
    "print(\"\\nInitial Diabetes Dataset:\")\n",
    "print(df.head())\n"
   ]
  },
  {
   "cell_type": "markdown",
   "metadata": {},
   "source": [
    "### Outliers Visualization"
   ]
  },
  {
   "cell_type": "markdown",
   "metadata": {},
   "source": [
    "#### Visualizing Outliers Using Box Plot\n",
    "It captures the summary of the data effectively and efficiently with only a simple box and whiskers. Boxplot summarizes sample data using 25th, 50th, and 75th percentiles. One can just get insights(quartiles, median, and outliers) into the dataset by just looking at its boxplot."
   ]
  },
  {
   "cell_type": "code",
   "execution_count": 336,
   "metadata": {},
   "outputs": [
    {
     "data": {
      "image/png": "[encoded data removed]",
      "text/plain": [
       "<Figure size 1200x600 with 1 Axes>"
      ]
     },
     "metadata": {},
     "output_type": "display_data"
    }
   ],
   "source": [
    "# Boxplot visualization\n",
    "plt.figure(figsize=(12, 6))\n",
    "sns.boxplot(data=df)\n",
    "plt.title(\"Boxplot of Diabetes Features\")\n",
    "plt.xticks(rotation=45)\n",
    "plt.tight_layout()\n",
    "plt.show()"
   ]
  },
  {
   "cell_type": "markdown",
   "metadata": {},
   "source": [
    "#### Visualizing Outliers Using ScatterPlot.\n",
    "\n",
    "It is used when you have paired numerical data and when your dependent variable has multiple values for each reading independent variable, or when trying to determine the relationship between the two variables. In the process of utilizing the scatter plot, one can also use it for outlier detection."
   ]
  },
  {
   "cell_type": "code",
   "execution_count": 337,
   "metadata": {},
   "outputs": [
    {
     "data": {
      "image/png": "[encoded data removed]",
      "text/plain": [
       "<Figure size 800x600 with 1 Axes>"
      ]
     },
     "metadata": {},
     "output_type": "display_data"
    }
   ],
   "source": [
    "\n",
    "# Scatterplot: BMI vs S5\n",
    "plt.figure(figsize=(8, 6))\n",
    "sns.scatterplot(data=df, x='bmi', y='s5')\n",
    "plt.title(\"Scatter Plot: BMI vs S5\")\n",
    "plt.xlabel(\"Body Mass Index (bmi)\")\n",
    "plt.ylabel(\"S5 Serum Measurement\")\n",
    "plt.grid(True)\n",
    "plt.show()"
   ]
  },
  {
   "cell_type": "markdown",
   "metadata": {},
   "source": [
    "#### Z-Score:\n",
    "Z- Score is also called a standard score. This value/score helps to understand that how far is the data point from the mean. And after setting up a threshold value one can utilize z score values of data points to define the outliers.\n",
    "<br>\n",
    "Zscore = (data_point -mean) / std. deviation\n",
    "\n"
   ]
  },
  {
   "cell_type": "code",
   "execution_count": 338,
   "metadata": {},
   "outputs": [
    {
     "name": "stdout",
     "output_type": "stream",
     "text": [
      "\n",
      "Shape after Z-score filtering: (430, 10)\n",
      "\n",
      "Summary after Z-score cleaning:\n",
      "              age         sex         bmi          bp          s1          s2  \\\n",
      "count  430.000000  430.000000  430.000000  430.000000  430.000000  430.000000   \n",
      "mean    -0.000049    0.000137   -0.000932    0.000094   -0.001534   -0.000927   \n",
      "std      0.047963    0.047629    0.046149    0.047400    0.046511    0.046147   \n",
      "min     -0.107226   -0.044642   -0.090275   -0.112399   -0.126781   -0.115613   \n",
      "25%     -0.037299   -0.044642   -0.034229   -0.033213   -0.034592   -0.030358   \n",
      "50%      0.005383   -0.044642   -0.007284   -0.005670   -0.004321   -0.003819   \n",
      "75%      0.038076    0.050680    0.030440    0.035360    0.025950    0.028200   \n",
      "max      0.110727    0.050680    0.137143    0.132044    0.133274    0.131461   \n",
      "\n",
      "               s3          s4          s5          s6  \n",
      "count  430.000000  430.000000  430.000000  430.000000  \n",
      "mean    -0.001143   -0.000991   -0.000646   -0.000654  \n",
      "std      0.044069    0.044946    0.047353    0.047600  \n",
      "min     -0.102307   -0.076395   -0.126097   -0.137767  \n",
      "25%     -0.032356   -0.039493   -0.034203   -0.034215  \n",
      "50%     -0.006584   -0.002592   -0.003301   -0.001078  \n",
      "75%      0.026550    0.034309    0.031657    0.027917  \n",
      "max      0.140681    0.141322    0.133597    0.135612  \n"
     ]
    }
   ],
   "source": [
    "# Z-score method\n",
    "z_scores = stats.zscore(df)\n",
    "abs_z_scores = abs(z_scores)\n",
    "filtered_z = (abs_z_scores < 3).all(axis=1)\n",
    "df_zscore_clean = df[filtered_z]\n",
    "print(\"\\nShape after Z-score filtering:\", df_zscore_clean.shape)\n",
    "# print the summary after Z-score cleaning \n",
    "print(\"\\nSummary after Z-score cleaning:\")\n",
    "print(df_zscore_clean.describe())"
   ]
  },
  {
   "cell_type": "markdown",
   "metadata": {},
   "source": [
    "Now to define an outlier threshold value is chosen which is generally 3.0. As 99.7% of the data points lie between +/- 3 standard deviation (using Gaussian Distribution approach).\n",
    "\n",
    "Rows where Z value is greater than 2"
   ]
  },
  {
   "cell_type": "markdown",
   "metadata": {},
   "source": [
    "#### IQR (Inter-Quartile Range)\n",
    "Inter Quartile Range approach to finding the outliers is the most commonly used and most trusted approach used in the research field. <Br>\n",
    "IQR = Quartile3 - Quartile1"
   ]
  },
  {
   "cell_type": "code",
   "execution_count": 339,
   "metadata": {},
   "outputs": [],
   "source": [
    "# IQR method\n",
    "Q1 = df.quantile(0.25)\n",
    "Q3 = df.quantile(0.75)\n",
    "IQR = Q3 - Q1\n"
   ]
  },
  {
   "cell_type": "markdown",
   "metadata": {},
   "source": [
    "To define the outlier base value is defined above and below dataset’s normal range namely Upper and Lower bounds, define the upper and the lower bound (1.5*IQR value is considered) :<br>\n",
    "upper = Q3 + 1.5 * IQR <br>\n",
    "lower = Q1 - 1.5 * IQR <br> "
   ]
  },
  {
   "cell_type": "code",
   "execution_count": 340,
   "metadata": {},
   "outputs": [
    {
     "name": "stdout",
     "output_type": "stream",
     "text": [
      "\n",
      "Shape after IQR filtering: (411, 10)\n"
     ]
    }
   ],
   "source": [
    "filtered_iqr = ~((df < (Q1 - 1.5 * IQR)) | (df > (Q3 + 1.5 * IQR))).any(axis=1)\n",
    "df_iqr_clean = df[filtered_iqr]\n",
    "print(\"\\nShape after IQR filtering:\", df_iqr_clean.shape)"
   ]
  },
  {
   "cell_type": "markdown",
   "metadata": {},
   "source": [
    "- Removing the outliers:\n",
    "For removing the outlier, one must follow the same process of removing an entry from the dataset using its exact position in the dataset because in all the above methods of detecting the outliers end result is the list of all those data items that satisfy the outlier definition according to the method used."
   ]
  },
  {
   "cell_type": "code",
   "execution_count": 341,
   "metadata": {},
   "outputs": [
    {
     "name": "stdout",
     "output_type": "stream",
     "text": [
      "New dataset shape after removing outliers: (430, 10)\n"
     ]
    }
   ],
   "source": [
    "# Remove outliers using the Z-score mask\n",
    "df_cleaned = df[filtered_z].reset_index(drop=True)\n",
    "print(f\"New dataset shape after removing outliers: {df_cleaned.shape}\")"
   ]
  }
 ],
 "metadata": {
  "kernelspec": {
   "display_name": "Python 3",
   "language": "python",
   "name": "python3"
  },
  "language_info": {
   "codemirror_mode": {
    "name": "ipython",
    "version": 3
   },
   "file_extension": ".py",
   "mimetype": "text/x-python",
   "name": "python",
   "nbconvert_exporter": "python",
   "pygments_lexer": "ipython3",
   "version": "3.13.3"
  },
  "orig_nbformat": 4
 },
 "nbformat": 4,
 "nbformat_minor": 2
}
